{
  "nbformat": 4,
  "nbformat_minor": 0,
  "metadata": {
    "colab": {
      "provenance": []
    },
    "kernelspec": {
      "name": "python3",
      "display_name": "Python 3"
    },
    "language_info": {
      "name": "python"
    }
  },
  "cells": [
    {
      "cell_type": "markdown",
      "source": [
        "# **THEORY QUESTIONS**"
      ],
      "metadata": {
        "id": "SRc8R8ukzW2o"
      }
    },
    {
      "cell_type": "markdown",
      "source": [
        "1. What is Python, and why is it popular ?\n",
        "-  Python is a object-oriented programming language that's used for many different purposes, including: Building websites and software, Automating tasks, Analyzing data, Machine learning, and Data science.\n",
        " - Python is so popular because :\n",
        "\n",
        "- Easy to Read : Python's code is generally considered easy to read and understand due to its simple syntax and clear structure.\n",
        "- Easy to learn: Python has a clean, straightforward syntax, making it easier to pick up compared to other languages, even for those with no prior coding experience.\n",
        "- Versatility: Python can be used for various applications, including web development , data science, machine learning and more.\n",
        "- Extensive libraries: A large collection of powerful libraries like NumPy, Pandas, Matplotlib, and TensorFlow are readily available, significantly enhancing capabilities in data analysis and machine learning.\n",
        "- Large community support: A large and active community of Python developers provides ample support through forums, tutorials, and collaborative projects.\n",
        "- Cross-platform compatibility: Python code can run on different operating systems without major modifications.\n",
        "- Automation potential: Python is well-suited for automating repetitive tasks due to its ability to easily interact with other systems and applications\n",
        "\n",
        "2. What is an interpreter in Python ?\n",
        "- A python interpreter is a program that executes code line by line, translating it into machine-readable instructions that the computer can understand and carry out.\n",
        "  - Here's the process:\n",
        "\n",
        "- You write your Python code in a file.\n",
        "- You run the file using the Python interpreter.\n",
        "- The interpreter reads your code line by line.\n",
        "- For each line, it translates it into machine code\n",
        "  instructions.\n",
        "- Your computer processor executes those\n",
        "  instructions.\n",
        "- The interpreter moves to the next line and repeats\n",
        "  the process.\n",
        "\n",
        "This happens in real-time, which means you don't need to compile your code into a separate executable file before running it. This makes Python very interactive and easy to work with.\n",
        "\n",
        "So, in simple terms, the Python interpreter is the program that allows you to run your Python code and see the results.\n",
        "\n",
        "3. What are pre-defined keywords in Python ?\n",
        "- In Python, predefined keywords are reserved words that have special meanings and cannot be used as identifiers (like variable names, function names, etc.).\n",
        " - few examples of Python keywords : if, else, elif,\n",
        "   for, while, break,continue, pass, int, float, str, bool, list, dict,tuple, set, def, return, lambda,  try, except, finally, raise, True, False, None, and, or, not, in, is, as, import, from, global, nonlocal, with, yield, async, await.\n",
        "\n",
        "4. Can keywords be used as variable names ?\n",
        "- No, keywords cannot be used as variable names in Python.\n",
        "\n",
        "Keywords are reserved words that have special meanings and cannot be used as identifiers (like variable names, function names, etc.).\n",
        "\n",
        "If you try to use a keyword as a variable name, it will cause a syntax error because Python expects these words to have their special meanings.\n",
        "- for e.g:  \n",
        "  if = 10  # This will result in a syntax error\n",
        "\n",
        "You'll get an error like SyntaxError: invalid syntax because \" if \" is a reserved keyword used for conditional statements, not as a variable.\n",
        "\n",
        "5. What is mutability in Python ?\n",
        "- In Python, mutability refers to the ability of an object to change its value after it has been created. Objects whose values can be changed are called mutable.\n",
        "\n",
        "Mutable Objects:\n",
        "- These objects can be modified in-place, meaning their contents can be altered without creating a new object.\n",
        "-Examples includes lists, dictionaries & sets.\n",
        "\n",
        "6.  Why are lists mutable, but tuples are immutable ?\n",
        "- In Python, lists are considered mutable because they can be changed after creation, while tuples are immutable, meaning their contents cannot be modified once created; this design choice allows tuples to be used for data that should remain constant, while lists are better for situations where you need to frequently add, remove, or update elements within a collection.\n",
        "\n",
        "- Lists are mutable because they are designed to be flexible and allow for modifications, while tuples are immutable to ensure data integrity and prevent accidental changes. This fundamental difference in design and implementation leads to their contrasting mutability characteristics.\n",
        "\n",
        "7. What is the difference between “==” and “is” operators in Python ?\n",
        "  \n",
        "  == (Equality Operator) :\n",
        "\n",
        "- Compares the values of two objects.\n",
        "- Returns True if the values are equal, False otherwise\n",
        "- for e.g :\n",
        "print(list1 == list2)  # Output: True(values are equal)\n",
        "\n",
        "  is (Identity Operator) :\n",
        "\n",
        "- Checks if two variables refer to the same object in\n",
        "memory.\n",
        "- Returns True if both variables point to the same memory location, False otherwise.\n",
        "-for e.g : print(list1 is list2)  # Output: False (different memory locations).\n",
        "\n",
        "8. What are logical operators in Python ?\n",
        "- Logical operators are used to combine or modify Boolean expressions, resulting in a Boolean outcome (True or False).\n",
        "\n",
        "- Here are the three main logical operators in Python\n",
        "\n",
        "and Operator:\n",
        "- Returns True if both operands are True.\n",
        "- Returns False if either or both operands are False.\n",
        "- Example: x > 5 and y < 10 (True if x is greater than 5 and y is less than 10)\n",
        "\n",
        "or Operator:\n",
        "- Returns True if at least one operand is True.\n",
        "- Returns False only if both operands are False.\n",
        "- Example: x > 5 or y < 10 (True if x is greater than 5 or y is less than 10, or both)\n",
        "\n",
        "not Operator:\n",
        "- Inverts the truth value of an operand.\n",
        "- Returns True if the operand is False.\n",
        "- Returns False if the operand is True.\n",
        "- Example: not x > 5 (True if x is not greater than 5)\n",
        "\n",
        "9. What is type casting in Python ?\n",
        "- Type casting in Python is the process of converting a variable's data type into another data type. It's like changing the form of data without changing the underlying value. This is useful for ensuring data compatibility and performing operations on different data types.\n",
        "\n",
        "10. What is the difference between implicit and explicit type casting ?\n",
        "--\n",
        "Implicit:\n",
        "- Python automatically converts data types in some situations.\n",
        "- For example, adding an integer and a float will result in a float.\n",
        "\n",
        "--Explicit:\n",
        "- You manually convert data types using functions like int(), float(), str(), etc.\n",
        "- For example, int(\"10\") converts the string \"10\" to an integer 10.\n",
        "\n",
        "11. What is the purpose of conditional statements in Python ?\n",
        "- Conditional statements in Python control the flow of execution based on whether a condition is true or false. They allow your program to make decisions and execute different blocks of code depending on those decisions.\n",
        "\n",
        "Essentially, they provide the logic for your program to say, \"If this is true, do this; otherwise (else), do that.\" This makes your programs more dynamic and responsive.\n",
        "\n",
        "for e.g:\n",
        "\n",
        "age = 19\n",
        "\n",
        "if age >= 18:\n",
        "    \n",
        "    print(\"You are eligible to vote.\")\n",
        "\n",
        "else:\n",
        "\n",
        "    print(\"You are not eligible to vote yet.\")\n",
        "\n",
        "In this case, the conditional statement (if age >= 18:) checks if the user's age is 18 or greater. If the condition is true, the code inside the if block is executed, print \"You are eligible to vote.\" Otherwise, the code inside the else block is executed, print \"You are not eligible to vote yet.\"\n",
        "\n",
        "Hence, conditional statements allow your programs to make decisions, adapt to different situations, and execute code selectively, making them more flexible and powerful.\n",
        "\n",
        "12. How does the elif statement work ?\n",
        "- The elif statement (short for \"else if\") is used to check additional conditions after an initial if statement if the initial if condition is False.\n",
        "\n",
        "In short: If the if condition is false, Python checks the elif condition. If the elif condition is true, its code block is executed. If it's also false, Python moves to the next elif or the else block, if present.\n",
        "\n",
        "for e.g:\n",
        "\n",
        "\n"
      ],
      "metadata": {
        "id": "VHYjcH7hIwD0"
      }
    },
    {
      "source": [
        "grade = 90\n",
        "\n",
        "if grade >= 90:\n",
        "    print(\"You got an A!\")\n",
        "elif grade >= 80:\n",
        "    print(\"You got a B!\")\n",
        "elif grade >= 70:\n",
        "    print(\"You got a C!\")\n",
        "else:\n",
        "    print(\"You need to improve your grade.\")"
      ],
      "cell_type": "code",
      "metadata": {
        "id": "gaAhofHBuEPO",
        "colab": {
          "base_uri": "https://localhost:8080/"
        },
        "outputId": "99f24442-034e-4dbd-fb43-e59a2cb6a455"
      },
      "execution_count": 39,
      "outputs": [
        {
          "output_type": "stream",
          "name": "stdout",
          "text": [
            "You got an A!\n"
          ]
        }
      ]
    },
    {
      "cell_type": "markdown",
      "source": [
        "13. What is the difference between for and while loops ?\n",
        "-> For Loop\n",
        "\n",
        "- The for loop is used when you know in advance how many times you want to execute the block of code.\n",
        "\n",
        "- It iterates over a sequence (e.g., a list, tuple, string, or range) and executes the block of code for each item in the sequence.\n",
        "\n",
        "- The loop variable (variable) takes the value of each item in the sequence during each iteration.\n",
        "\n",
        "- for e.g:\n",
        "\n",
        " fruits = [\"apple\", \"banana\", \"cherry\"]\n",
        "\n",
        " for fruit in fruits:\n",
        "\n",
        "    print(fruit)  # Prints each fruit in the list\n",
        "\n",
        "-> While Loop\n",
        "\n",
        "- The while loop is used when you don't know in advance how many times you want to execute the block of code. It continues to execute as long as the specified condition is true.\n",
        "\n",
        "- It's important to make sure that the condition eventually becomes false; otherwise, the loop will run indefinitely, resulting in an infinite loop.\n",
        "\n",
        "- for e.g:\n",
        "\n",
        "  count = 0  \n",
        "\n",
        "  while count < 5:\n",
        "\n",
        "  print(count)  # Prints numbers from 0 to 4\n",
        "\n",
        "  count += 1\n",
        "\n",
        "14. Describe a scenario where a while loop is more suitable than a for loop ?\n",
        "- A while loop is more suitable than a for loop when you don't know in advance how many times the loop needs to run and instead want to continue iterating until a specific condition is met, which could change dynamically during the loop execution.\n",
        "\n",
        "- Example Scenario:\n",
        "User input validation: You want to repeatedly ask a user for input until they provide a valid number. Since you don't know how many times they might enter an invalid number, a while loop would be ideal to keep asking for input until the condition of \"valid number\" is true.\n",
        "\n",
        "\n",
        "\n",
        "\n"
      ],
      "metadata": {
        "id": "-J5Tr_2HuZHf"
      }
    },
    {
      "cell_type": "markdown",
      "source": [
        "# **PRACTICAL QUESTIONS**"
      ],
      "metadata": {
        "id": "eqOaZCOQzeeA"
      }
    },
    {
      "cell_type": "code",
      "source": [
        "#1.  Write a Python program to print \"Hello, World!\"\n",
        "print(\"Hello, World!\")"
      ],
      "metadata": {
        "colab": {
          "base_uri": "https://localhost:8080/"
        },
        "collapsed": true,
        "id": "SpizfIYIzjUU",
        "outputId": "6f6c9793-5e6e-4dcb-8663-9868d4f2c263"
      },
      "execution_count": null,
      "outputs": [
        {
          "output_type": "stream",
          "name": "stdout",
          "text": [
            "Hello, World!\n"
          ]
        }
      ]
    },
    {
      "cell_type": "code",
      "source": [
        "#2. Write a Python program that displays your name and age.\n",
        "name = input(\"Enter your name: \")\n",
        "age = int(input(\"Enter your age: \"))\n",
        "print(\"Name:\", name)\n",
        "print(\"Age:\", age)"
      ],
      "metadata": {
        "colab": {
          "base_uri": "https://localhost:8080/"
        },
        "collapsed": true,
        "id": "5hjLESNLzjSn",
        "outputId": "327c7890-489a-46a4-95cf-fcf51502d464"
      },
      "execution_count": null,
      "outputs": [
        {
          "output_type": "stream",
          "name": "stdout",
          "text": [
            "Enter your name: ansh\n",
            "Enter your age: 21\n",
            "Name: ansh\n",
            "Age: 21\n"
          ]
        }
      ]
    },
    {
      "cell_type": "code",
      "source": [
        "#3. Write code to print all the pre-defined keywords in Python using the keyword library\n",
        "import keyword\n",
        "print(keyword.kwlist)"
      ],
      "metadata": {
        "colab": {
          "base_uri": "https://localhost:8080/"
        },
        "collapsed": true,
        "id": "BxIuPdnwzjQ6",
        "outputId": "3915b7ee-7c62-47e7-c76d-757631d4b2ca"
      },
      "execution_count": null,
      "outputs": [
        {
          "output_type": "stream",
          "name": "stdout",
          "text": [
            "['False', 'None', 'True', 'and', 'as', 'assert', 'async', 'await', 'break', 'class', 'continue', 'def', 'del', 'elif', 'else', 'except', 'finally', 'for', 'from', 'global', 'if', 'import', 'in', 'is', 'lambda', 'nonlocal', 'not', 'or', 'pass', 'raise', 'return', 'try', 'while', 'with', 'yield']\n"
          ]
        }
      ]
    },
    {
      "cell_type": "code",
      "source": [
        "#4. Write a program that checks if a given word is a Python keyword.\n",
        "import keyword\n",
        "word = input(\"Enter a word: \")\n",
        "if keyword.iskeyword(word):\n",
        "    print(f\"{word} is a Python keyword.\")\n",
        "else:\n",
        "    print(f\"{word} is not a Python keyword.\")"
      ],
      "metadata": {
        "colab": {
          "base_uri": "https://localhost:8080/"
        },
        "collapsed": true,
        "id": "87mwhPpqzjPL",
        "outputId": "bcef65e9-4414-4229-bacb-6e216265d56f"
      },
      "execution_count": null,
      "outputs": [
        {
          "output_type": "stream",
          "name": "stdout",
          "text": [
            "Enter a word: if\n",
            "if is a Python keyword.\n"
          ]
        }
      ]
    },
    {
      "cell_type": "code",
      "source": [
        "#5. Create a list and tuple in Python, and demonstrate how attempting to change an element works differently.\n",
        "my_list = [\"apple\", \"banana\", \"cherry\"]\n",
        "my_tuple = (\"orange\", \"mango\", \"grape\")\n",
        "\n",
        "# Trying to change an element in the list\n",
        "print(\"Original list:\", my_list)\n",
        "my_list[1] = \"kiwi\"\n",
        "# Changing \"banana\" to \"kiwi\"\n",
        "print(\"Updated list:\", my_list)\n",
        "\n",
        "# Trying to change an element in the tuple\n",
        "print(\"Original tuple:\", my_tuple)\n",
        "\n",
        "# To modify a tuple, you need to create a new one\n",
        "my_newtuple = (\"apple\", \"mango\", \"orange\")\n",
        "print(\"Modified tuple:\", my_newtuple)\n"
      ],
      "metadata": {
        "colab": {
          "base_uri": "https://localhost:8080/"
        },
        "collapsed": true,
        "id": "LQ_B1Id_9ldD",
        "outputId": "21c00ab6-800d-4920-bc54-2fc2df7e49e0"
      },
      "execution_count": 6,
      "outputs": [
        {
          "output_type": "stream",
          "name": "stdout",
          "text": [
            "Original list: ['apple', 'banana', 'cherry']\n",
            "Updated list: ['apple', 'kiwi', 'cherry']\n",
            "Original tuple: ('orange', 'mango', 'grape')\n",
            "Modified tuple: ('apple', 'mango', 'orange')\n"
          ]
        }
      ]
    },
    {
      "cell_type": "code",
      "source": [
        "#6.&& 7.  Write a function to demonstrate the behavior of mutable and immutable arguments"
      ],
      "metadata": {
        "id": "QeiiMEIq9lbI"
      },
      "execution_count": null,
      "outputs": []
    },
    {
      "cell_type": "code",
      "source": [
        "#8. Write a program to demonstrate the use of logical operators.\n",
        "\n",
        "# Logical AND (and)\n",
        "age = 19\n",
        "salary = 30000\n",
        "if age >= 18 and salary >= 30000:\n",
        "    print(\"Eligible for loan\")\n",
        "else:\n",
        "    print(\"Not eligible for loan\")\n",
        "\n",
        "# Logical OR (or)\n",
        "is_raining = False\n",
        "is_cold = True\n",
        "if is_raining or is_cold:\n",
        "    print(\"Remember to take an umbrella or a jacket.\")\n",
        "else:\n",
        "    print(\"Enjoy the weather!\")\n",
        "\n",
        "# Logical NOT (not)\n",
        "rain = False\n",
        "if not rain:\n",
        "    print(\"Go for a picnic\")\n",
        "else:\n",
        "    print(\"Stay at home\")"
      ],
      "metadata": {
        "colab": {
          "base_uri": "https://localhost:8080/"
        },
        "collapsed": true,
        "id": "p4NZmKCV9lYe",
        "outputId": "f5ef9cb1-79d2-4d13-ad96-1eb90816a942"
      },
      "execution_count": 7,
      "outputs": [
        {
          "output_type": "stream",
          "name": "stdout",
          "text": [
            "Eligible for loan\n",
            "Can apply for a new credit line\n",
            "Go for a picnic\n"
          ]
        }
      ]
    },
    {
      "cell_type": "code",
      "source": [
        "#9. write a python program to convert user input from string to integer, float, and boolean types using if comdition\n",
        "user_input = input(\"Enter a value: \")\n",
        "try:\n",
        "    integer_value = int(user_input)\n",
        "    float_value = float(user_input)\n",
        "    boolean_value = bool(user_input)\n",
        "    print(\"Integer value:\", integer_value)\n",
        "    print(\"Float value:\", float_value)\n",
        "    print(\"Boolean value:\", boolean_value)\n",
        "except ValueError:\n",
        "    print(\"Invalid input. Please enter a valid integer, float, or boolean value.\")"
      ],
      "metadata": {
        "colab": {
          "base_uri": "https://localhost:8080/"
        },
        "collapsed": true,
        "id": "aVU9lUr09lTP",
        "outputId": "770713bf-5ab8-45f0-8a66-17766d9ab125"
      },
      "execution_count": 19,
      "outputs": [
        {
          "output_type": "stream",
          "name": "stdout",
          "text": [
            "Enter a value: 4\n",
            "Integer value: 4\n",
            "Float value: 4.0\n",
            "Boolean value: True\n"
          ]
        }
      ]
    },
    {
      "cell_type": "code",
      "source": [
        "#10.  Write code to demonstrate type casting with list elements.\n",
        "my_list = [1, 2.5, \"3\", True]\n",
        "int_list = [int(x) for x in my_list]\n",
        "float_list = [float(x) for x in my_list]\n",
        "str_list = [str(x) for x in my_list]\n",
        "print(\"Original list:\", my_list)\n",
        "print(\"List of integers:\", int_list)\n",
        "print(\"List of floats:\", float_list)\n",
        "print(\"List of strings:\", str_list)"
      ],
      "metadata": {
        "colab": {
          "base_uri": "https://localhost:8080/"
        },
        "collapsed": true,
        "id": "0TfcgTo-9lPO",
        "outputId": "ca6be41b-6d43-41bf-f3fe-7b5642104c5f"
      },
      "execution_count": 30,
      "outputs": [
        {
          "output_type": "stream",
          "name": "stdout",
          "text": [
            "Original list: [1, 2.5, '3', True]\n",
            "List of integers: [1, 2, 3, 1]\n",
            "List of floats: [1.0, 2.5, 3.0, 1.0]\n",
            "List of strings: ['1', '2.5', '3', 'True']\n"
          ]
        }
      ]
    },
    {
      "cell_type": "code",
      "source": [
        "#11.Write a program that checks if a number is positive, negative, or zero ?\n",
        "num = int(input(\"Enter a number: \"))\n",
        "if num > 0:\n",
        "    print(\"The number is positive.\")\n",
        "elif num < 0:\n",
        "    print(\"The number is negative.\")\n",
        "else:\n",
        "    print(\"The number is zero.\")"
      ],
      "metadata": {
        "colab": {
          "base_uri": "https://localhost:8080/"
        },
        "collapsed": true,
        "id": "JNyEaR6KUt5D",
        "outputId": "b5b02b30-1aff-415c-a627-6f161ce6e2fd"
      },
      "execution_count": 32,
      "outputs": [
        {
          "output_type": "stream",
          "name": "stdout",
          "text": [
            "Enter a number: 4\n",
            "The number is positive.\n"
          ]
        }
      ]
    },
    {
      "cell_type": "code",
      "source": [
        "#12. Write a for loop to print numbers from 1 to 10 ?\n",
        "for i in range(1,11):\n",
        "  print(i)"
      ],
      "metadata": {
        "colab": {
          "base_uri": "https://localhost:8080/"
        },
        "collapsed": true,
        "id": "XD8vUtliWHO6",
        "outputId": "ae737122-ce20-430d-bcc7-044f499b6f53"
      },
      "execution_count": 34,
      "outputs": [
        {
          "output_type": "stream",
          "name": "stdout",
          "text": [
            "1\n",
            "2\n",
            "3\n",
            "4\n",
            "5\n",
            "6\n",
            "7\n",
            "8\n",
            "9\n",
            "10\n"
          ]
        }
      ]
    },
    {
      "cell_type": "code",
      "source": [
        "#13.Write a Python program to find the sum of all even numbers between 1 and 50 ?\n",
        "sum = 0\n",
        "for i in range(1, 51):\n",
        "    if i % 2 == 0:\n",
        "        sum = sum+i\n",
        "print(\"The sum of all even numbers between 1 and 50 is:\", sum)"
      ],
      "metadata": {
        "colab": {
          "base_uri": "https://localhost:8080/"
        },
        "collapsed": true,
        "id": "qGQUZVUYWHJu",
        "outputId": "d68a1f72-c31e-4093-ccda-086c97b7c162"
      },
      "execution_count": 35,
      "outputs": [
        {
          "output_type": "stream",
          "name": "stdout",
          "text": [
            "The sum of all even numbers between 1 and 50 is: 650\n"
          ]
        }
      ]
    },
    {
      "cell_type": "code",
      "source": [
        "#14. Write a program to reverse a string using a while loop ?"
      ],
      "metadata": {
        "id": "0Kt_gje5WHHf"
      },
      "execution_count": 40,
      "outputs": []
    },
    {
      "cell_type": "code",
      "source": [
        "#15. Write a Python program to calculate the factorial of a number provided by the user using a while loop\n",
        "num = int(input(\"Enter a integer: \"))\n",
        "if num < 0:\n",
        "    print(\"Factorial is not defined for negative numbers.\")\n",
        "else:\n",
        "    factorial = 1\n",
        "    while num > 0:\n",
        "        factorial = factorial * num\n",
        "        num = num - 1\n",
        "    print(\"The factorial is:\", factorial)"
      ],
      "metadata": {
        "colab": {
          "base_uri": "https://localhost:8080/"
        },
        "collapsed": true,
        "id": "t3x7j5LGYsbS",
        "outputId": "ad6489e8-669d-465a-e492-52ec2502e23f"
      },
      "execution_count": 36,
      "outputs": [
        {
          "output_type": "stream",
          "name": "stdout",
          "text": [
            "Enter a number: 3\n",
            "The factorial of 3 is: 6\n"
          ]
        }
      ]
    }
  ]
}